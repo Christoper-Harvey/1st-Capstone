version https://git-lfs.github.com/spec/v1
oid sha256:d33f2a7160545793efe7a89736cfa0758739a89f199d995577873b6b9d2928b2
size 18719
